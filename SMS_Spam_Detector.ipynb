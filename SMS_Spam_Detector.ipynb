{
  "nbformat": 4,
  "nbformat_minor": 0,
  "metadata": {
    "colab": {
      "name": "SMS Spam Detector",
      "provenance": [],
      "collapsed_sections": [],
      "authorship_tag": "ABX9TyNzudquL1ERBFLoosXz+v2+",
      "include_colab_link": true
    },
    "kernelspec": {
      "name": "python3",
      "display_name": "Python 3"
    }
  },
  "cells": [
    {
      "cell_type": "markdown",
      "metadata": {
        "id": "view-in-github",
        "colab_type": "text"
      },
      "source": [
        "<a href=\"https://colab.research.google.com/github/hrugved-143/code-hk/blob/master/SMS_Spam_Detector.ipynb\" target=\"_parent\"><img src=\"https://colab.research.google.com/assets/colab-badge.svg\" alt=\"Open In Colab\"/></a>"
      ]
    },
    {
      "cell_type": "code",
      "metadata": {
        "id": "zEp0aKZaucTa",
        "colab_type": "code",
        "colab": {
          "base_uri": "https://localhost:8080/",
          "height": 129
        },
        "outputId": "c56fe190-b1fe-4cf0-da7b-367a6d847966"
      },
      "source": [
        "from google.colab import drive\n",
        "drive.mount(\"/gdrive\")"
      ],
      "execution_count": 7,
      "outputs": [
        {
          "output_type": "stream",
          "text": [
            "Go to this URL in a browser: https://accounts.google.com/o/oauth2/auth?client_id=947318989803-6bn6qk8qdgf4n4g3pfee6491hc0brc4i.apps.googleusercontent.com&redirect_uri=urn%3aietf%3awg%3aoauth%3a2.0%3aoob&scope=email%20https%3a%2f%2fwww.googleapis.com%2fauth%2fdocs.test%20https%3a%2f%2fwww.googleapis.com%2fauth%2fdrive%20https%3a%2f%2fwww.googleapis.com%2fauth%2fdrive.photos.readonly%20https%3a%2f%2fwww.googleapis.com%2fauth%2fpeopleapi.readonly&response_type=code\n",
            "\n",
            "Enter your authorization code:\n",
            "··········\n",
            "Mounted at /gdrive\n"
          ],
          "name": "stdout"
        }
      ]
    },
    {
      "cell_type": "code",
      "metadata": {
        "id": "FZ4FeFy-z-3l",
        "colab_type": "code",
        "colab": {
          "base_uri": "https://localhost:8080/",
          "height": 35
        },
        "outputId": "66102e89-e06d-4dbb-9520-2cde6e647a1d"
      },
      "source": [
        "cd /gdrive/My Drive/SpamSMS"
      ],
      "execution_count": 8,
      "outputs": [
        {
          "output_type": "stream",
          "text": [
            "/gdrive/My Drive/SpamSMS\n"
          ],
          "name": "stdout"
        }
      ]
    },
    {
      "cell_type": "markdown",
      "metadata": {
        "id": "WGLVBmbqQ9L5",
        "colab_type": "text"
      },
      "source": [
        "#Loading Dataset"
      ]
    },
    {
      "cell_type": "code",
      "metadata": {
        "id": "AEUzJD9lOFF8",
        "colab_type": "code",
        "colab": {}
      },
      "source": [
        "import pandas as pd"
      ],
      "execution_count": 9,
      "outputs": []
    },
    {
      "cell_type": "code",
      "metadata": {
        "id": "0wVkFH9a2AnF",
        "colab_type": "code",
        "colab": {
          "base_uri": "https://localhost:8080/",
          "height": 206
        },
        "outputId": "de8b6cca-6ada-4d39-b43b-4cb12b2b4879"
      },
      "source": [
        "data = pd.read_csv('training_data.csv', header= None, names=[\"sms\", \"label\"])\n",
        "data.head()"
      ],
      "execution_count": 36,
      "outputs": [
        {
          "output_type": "execute_result",
          "data": {
            "text/html": [
              "<div>\n",
              "<style scoped>\n",
              "    .dataframe tbody tr th:only-of-type {\n",
              "        vertical-align: middle;\n",
              "    }\n",
              "\n",
              "    .dataframe tbody tr th {\n",
              "        vertical-align: top;\n",
              "    }\n",
              "\n",
              "    .dataframe thead th {\n",
              "        text-align: right;\n",
              "    }\n",
              "</style>\n",
              "<table border=\"1\" class=\"dataframe\">\n",
              "  <thead>\n",
              "    <tr style=\"text-align: right;\">\n",
              "      <th></th>\n",
              "      <th>sms</th>\n",
              "      <th>label</th>\n",
              "    </tr>\n",
              "  </thead>\n",
              "  <tbody>\n",
              "    <tr>\n",
              "      <th>0</th>\n",
              "      <td>msg_text</td>\n",
              "      <td>ham_or_spam</td>\n",
              "    </tr>\n",
              "    <tr>\n",
              "      <th>1</th>\n",
              "      <td>Haha better late than ever, any way I could sw...</td>\n",
              "      <td>ham</td>\n",
              "    </tr>\n",
              "    <tr>\n",
              "      <th>2</th>\n",
              "      <td>Thanks a lot for your wishes on my birthday. T...</td>\n",
              "      <td>ham</td>\n",
              "    </tr>\n",
              "    <tr>\n",
              "      <th>3</th>\n",
              "      <td>A guy who gets used but is too dumb to realize...</td>\n",
              "      <td>ham</td>\n",
              "    </tr>\n",
              "    <tr>\n",
              "      <th>4</th>\n",
              "      <td>Talk sexy!! Make new friends or fall in love i...</td>\n",
              "      <td>spam</td>\n",
              "    </tr>\n",
              "  </tbody>\n",
              "</table>\n",
              "</div>"
            ],
            "text/plain": [
              "                                                 sms        label\n",
              "0                                           msg_text  ham_or_spam\n",
              "1  Haha better late than ever, any way I could sw...          ham\n",
              "2  Thanks a lot for your wishes on my birthday. T...          ham\n",
              "3  A guy who gets used but is too dumb to realize...          ham\n",
              "4  Talk sexy!! Make new friends or fall in love i...         spam"
            ]
          },
          "metadata": {
            "tags": []
          },
          "execution_count": 36
        }
      ]
    },
    {
      "cell_type": "markdown",
      "metadata": {
        "id": "Nh0KycTIRDEw",
        "colab_type": "text"
      },
      "source": [
        "#PRE_PROCESSING"
      ]
    },
    {
      "cell_type": "code",
      "metadata": {
        "id": "OCBReDy_RH-n",
        "colab_type": "code",
        "colab": {
          "base_uri": "https://localhost:8080/",
          "height": 128
        },
        "outputId": "c3ddfe60-92b1-4eca-a030-25f8f66e6908"
      },
      "source": [
        "import string\n",
        "import nltk\n",
        "nltk.download('stopwords')\n",
        "nltk.download('punkt')\n",
        "\n",
        "stopwords = nltk.corpus.stopwords.words('english')\n",
        "punctuation = string.punctuation\n",
        "\n",
        "print(stopwords[:6])\n",
        "print(punctuation)"
      ],
      "execution_count": 37,
      "outputs": [
        {
          "output_type": "stream",
          "text": [
            "[nltk_data] Downloading package stopwords to /root/nltk_data...\n",
            "[nltk_data]   Package stopwords is already up-to-date!\n",
            "[nltk_data] Downloading package punkt to /root/nltk_data...\n",
            "[nltk_data]   Package punkt is already up-to-date!\n",
            "['i', 'me', 'my', 'myself', 'we', 'our']\n",
            "!\"#$%&'()*+,-./:;<=>?@[\\]^_`{|}~\n"
          ],
          "name": "stdout"
        }
      ]
    },
    {
      "cell_type": "code",
      "metadata": {
        "id": "FK2WwvNQTQuq",
        "colab_type": "code",
        "colab": {
          "base_uri": "https://localhost:8080/",
          "height": 206
        },
        "outputId": "4f03688e-9f56-4199-8450-fde15177b7b4"
      },
      "source": [
        "def pre_process(sms):\n",
        "  remove_punct = \"\".join([word.lower() for word in sms if word not in punctuation])\n",
        "  tokenize = nltk.tokenize.word_tokenize(remove_punct)\n",
        "  remove_stopwords = [word for word in tokenize if word not in stopwords]\n",
        "  return remove_stopwords\n",
        "\n",
        "data['processed'] = data['sms'].apply(lambda x: pre_process(x))\n",
        "data.head()"
      ],
      "execution_count": 38,
      "outputs": [
        {
          "output_type": "execute_result",
          "data": {
            "text/html": [
              "<div>\n",
              "<style scoped>\n",
              "    .dataframe tbody tr th:only-of-type {\n",
              "        vertical-align: middle;\n",
              "    }\n",
              "\n",
              "    .dataframe tbody tr th {\n",
              "        vertical-align: top;\n",
              "    }\n",
              "\n",
              "    .dataframe thead th {\n",
              "        text-align: right;\n",
              "    }\n",
              "</style>\n",
              "<table border=\"1\" class=\"dataframe\">\n",
              "  <thead>\n",
              "    <tr style=\"text-align: right;\">\n",
              "      <th></th>\n",
              "      <th>sms</th>\n",
              "      <th>label</th>\n",
              "      <th>processed</th>\n",
              "    </tr>\n",
              "  </thead>\n",
              "  <tbody>\n",
              "    <tr>\n",
              "      <th>0</th>\n",
              "      <td>msg_text</td>\n",
              "      <td>ham_or_spam</td>\n",
              "      <td>[msgtext]</td>\n",
              "    </tr>\n",
              "    <tr>\n",
              "      <th>1</th>\n",
              "      <td>Haha better late than ever, any way I could sw...</td>\n",
              "      <td>ham</td>\n",
              "      <td>[haha, better, late, ever, way, could, swing]</td>\n",
              "    </tr>\n",
              "    <tr>\n",
              "      <th>2</th>\n",
              "      <td>Thanks a lot for your wishes on my birthday. T...</td>\n",
              "      <td>ham</td>\n",
              "      <td>[thanks, lot, wishes, birthday, thanks, making...</td>\n",
              "    </tr>\n",
              "    <tr>\n",
              "      <th>3</th>\n",
              "      <td>A guy who gets used but is too dumb to realize...</td>\n",
              "      <td>ham</td>\n",
              "      <td>[guy, gets, used, dumb, realize]</td>\n",
              "    </tr>\n",
              "    <tr>\n",
              "      <th>4</th>\n",
              "      <td>Talk sexy!! Make new friends or fall in love i...</td>\n",
              "      <td>spam</td>\n",
              "      <td>[talk, sexy, make, new, friends, fall, love, w...</td>\n",
              "    </tr>\n",
              "  </tbody>\n",
              "</table>\n",
              "</div>"
            ],
            "text/plain": [
              "                                                 sms  ...                                          processed\n",
              "0                                           msg_text  ...                                          [msgtext]\n",
              "1  Haha better late than ever, any way I could sw...  ...      [haha, better, late, ever, way, could, swing]\n",
              "2  Thanks a lot for your wishes on my birthday. T...  ...  [thanks, lot, wishes, birthday, thanks, making...\n",
              "3  A guy who gets used but is too dumb to realize...  ...                   [guy, gets, used, dumb, realize]\n",
              "4  Talk sexy!! Make new friends or fall in love i...  ...  [talk, sexy, make, new, friends, fall, love, w...\n",
              "\n",
              "[5 rows x 3 columns]"
            ]
          },
          "metadata": {
            "tags": []
          },
          "execution_count": 38
        }
      ]
    },
    {
      "cell_type": "markdown",
      "metadata": {
        "id": "UZ3iC-hgX96p",
        "colab_type": "text"
      },
      "source": [
        "Seperating Ham/Spam Words"
      ]
    },
    {
      "cell_type": "code",
      "metadata": {
        "id": "9TuUOlYzX6Hh",
        "colab_type": "code",
        "colab": {
          "base_uri": "https://localhost:8080/",
          "height": 54
        },
        "outputId": "c35d5967-aa2c-499d-b93e-2048ae306402"
      },
      "source": [
        "def categorize_words():\n",
        "    spam_words = []\n",
        "    ham_words = []\n",
        "#handling messages associated with spam\n",
        "    for sms in data['processed'][data['label'] == 'spam']:\n",
        "        for word in sms:\n",
        "            spam_words.append(word)\n",
        "#handling messages associated with ham\n",
        "    for sms in data['processed'][data['label'] == 'ham']:\n",
        "        for word in sms:\n",
        "            ham_words.append(word)\n",
        "    return spam_words, ham_words\n",
        "\n",
        "spam_words, ham_words = categorize_words()\n",
        "\n",
        "print(spam_words[:8])\n",
        "print(ham_words[:8])"
      ],
      "execution_count": 41,
      "outputs": [
        {
          "output_type": "stream",
          "text": [
            "['talk', 'sexy', 'make', 'new', 'friends', 'fall', 'love', 'worlds']\n",
            "['haha', 'better', 'late', 'ever', 'way', 'could', 'swing', 'thanks']\n"
          ],
          "name": "stdout"
        }
      ]
    },
    {
      "cell_type": "markdown",
      "metadata": {
        "id": "PdmMXOLEYxlE",
        "colab_type": "text"
      },
      "source": [
        "Using Predict Function"
      ]
    },
    {
      "cell_type": "code",
      "metadata": {
        "id": "aI7wm3cdY11i",
        "colab_type": "code",
        "colab": {}
      },
      "source": [
        "def predict(sms):\n",
        "  spam_counter = 0\n",
        "  ham_counter = 0\n",
        "#count the occurances of each word in the sms string\n",
        "  for word in sms:\n",
        "    spam_counter += spam_words.count(word)\n",
        "    ham_counter += ham_words.count(word)\n",
        "  print('\\n******RESULT******\\n')\n",
        "#if the text message is ham\n",
        "  if ham_counter > spam_counter:\n",
        "    accuracy =round((ham_counter/(ham_counter + spam_counter)) * 100,2)\n",
        "    print('messege is not spam, with {}% assurance'.format(accuracy))\n",
        "#if the text message could be spam and ham\n",
        "  elif ham_counter == spam_counter:\n",
        "    print('message could be spam')\n",
        "#if the text message is spam\n",
        "  else:\n",
        "    accuracy = round((spam_counter / (ham_counter + spam_counter))* 100,2)\n",
        "    print('message is spam, with {}% assurance'.format(accuracy))"
      ],
      "execution_count": 70,
      "outputs": []
    },
    {
      "cell_type": "markdown",
      "metadata": {
        "id": "6G-s5w1gZyVk",
        "colab_type": "text"
      },
      "source": [
        "Taking the User Input"
      ]
    },
    {
      "cell_type": "code",
      "metadata": {
        "id": "nBRmY5y2Z1W0",
        "colab_type": "code",
        "colab": {
          "base_uri": "https://localhost:8080/",
          "height": 148
        },
        "outputId": "8b557e1d-08c6-4459-c21c-ca949bcb7218"
      },
      "source": [
        "user_input = input(\"Please type a spam or ham message\\n\")\n",
        "#pre-processing the input before prediction\n",
        "processed_input = pre_process(user_input)\n",
        "\n",
        "predict(processed_input)"
      ],
      "execution_count": 71,
      "outputs": [
        {
          "output_type": "stream",
          "text": [
            "Please type a spam or ham message\n",
            "SMS SERVICES. for your inclusive text credits, pls goto www.comuk.net login= 3qxj9 unsubscribe with STOP, no extra charge. help 08702840625.COMUK. 220-CM2 9AE\"\n",
            "\n",
            "******RESULT******\n",
            "\n",
            "message is spam, with 58.47% assurance\n"
          ],
          "name": "stdout"
        }
      ]
    }
  ]
}